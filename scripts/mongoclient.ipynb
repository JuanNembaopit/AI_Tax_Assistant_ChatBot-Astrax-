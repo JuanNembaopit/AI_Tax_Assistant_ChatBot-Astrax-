{
 "cells": [
  {
   "cell_type": "markdown",
   "id": "d655807f",
   "metadata": {},
   "source": [
    "# MongoDB Client"
   ]
  },
  {
   "cell_type": "code",
   "execution_count": null,
   "id": "b70e125d",
   "metadata": {},
   "outputs": [
    {
     "name": "stdout",
     "output_type": "stream",
     "text": [
      "Note: you may need to restart the kernel to use updated packages.\n",
      "Requirement already satisfied: dotenv in c:\\users\\galuh\\miniconda\\envs\\py10\\lib\\site-packages (0.9.9)\n",
      "Requirement already satisfied: python-dotenv in c:\\users\\galuh\\miniconda\\envs\\py10\\lib\\site-packages (from dotenv) (1.1.0)\n",
      "Note: you may need to restart the kernel to use updated packages.\n"
     ]
    }
   ],
   "source": [
    "!pip install -q pymongo\n",
    "!pip install dotenv"
   ]
  },
  {
   "cell_type": "code",
   "execution_count": 2,
   "id": "e87ee74e",
   "metadata": {},
   "outputs": [
    {
     "data": {
      "text/plain": [
       "'4.12.0'"
      ]
     },
     "execution_count": 2,
     "metadata": {},
     "output_type": "execute_result"
    }
   ],
   "source": [
    "from dotenv import load_dotenv\n",
    "import os\n",
    "import pymongo\n",
    "pymongo.__version__"
   ]
  },
  {
   "cell_type": "code",
   "execution_count": 5,
   "id": "3360e647",
   "metadata": {},
   "outputs": [],
   "source": [
    "# Define URI\n",
    "load_dotenv()\n",
    "URI=os.getenv(\"MONGO_URI\")"
   ]
  },
  {
   "cell_type": "code",
   "execution_count": 9,
   "id": "d2b45ca8",
   "metadata": {},
   "outputs": [
    {
     "name": "stdout",
     "output_type": "stream",
     "text": [
      "Connected successfully\n"
     ]
    }
   ],
   "source": [
    "# Test connection\n",
    "\n",
    "import pymongo.server_api\n",
    "\n",
    "\n",
    "client = pymongo.MongoClient(URI, server_api=pymongo.server_api.ServerApi(version=\"1\", strict=True, deprecation_errors=True))\n",
    "\n",
    "try:\n",
    "    client.admin.command(\"ping\")\n",
    "    print(\"Connected successfully\")\n",
    "\n",
    "    client.close()\n",
    "except Exception as e:\n",
    "    raise Exception(\"The following error occured: \", e)"
   ]
  },
  {
   "cell_type": "markdown",
   "id": "78f31398",
   "metadata": {},
   "source": [
    "# New Database"
   ]
  },
  {
   "cell_type": "code",
   "execution_count": 13,
   "id": "aeb8e089",
   "metadata": {},
   "outputs": [],
   "source": [
    "client = pymongo.MongoClient(URI, server_api=pymongo.server_api.ServerApi(version=\"1\", strict=True, deprecation_errors=True))"
   ]
  },
  {
   "cell_type": "code",
   "execution_count": 14,
   "id": "35645b86",
   "metadata": {},
   "outputs": [
    {
     "data": {
      "text/plain": [
       "['my_store', 'sample_mflix', 'admin', 'local']"
      ]
     },
     "execution_count": 14,
     "metadata": {},
     "output_type": "execute_result"
    }
   ],
   "source": [
    "# Get all databases\n",
    "\n",
    "client.list_database_names()"
   ]
  },
  {
   "cell_type": "code",
   "execution_count": 15,
   "id": "1570f655",
   "metadata": {},
   "outputs": [],
   "source": [
    "# Create a new database\n",
    "\n",
    "db = client['Astrax_db']"
   ]
  },
  {
   "cell_type": "code",
   "execution_count": 16,
   "id": "b569d2a5",
   "metadata": {},
   "outputs": [],
   "source": [
    "# Create a new collection\n",
    "\n",
    "collection = db['Astrax']"
   ]
  }
 ],
 "metadata": {
  "kernelspec": {
   "display_name": "base",
   "language": "python",
   "name": "python3"
  },
  "language_info": {
   "codemirror_mode": {
    "name": "ipython",
    "version": 3
   },
   "file_extension": ".py",
   "mimetype": "text/x-python",
   "name": "python",
   "nbconvert_exporter": "python",
   "pygments_lexer": "ipython3",
   "version": "3.9.21"
  }
 },
 "nbformat": 4,
 "nbformat_minor": 5
}
